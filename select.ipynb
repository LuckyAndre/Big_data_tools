{
 "cells": [
  {
   "cell_type": "code",
   "execution_count": 14,
   "metadata": {},
   "outputs": [],
   "source": [
    "from pyhive import hive\n",
    "import pandas as pd"
   ]
  },
  {
   "cell_type": "markdown",
   "metadata": {},
   "source": [
    "### Эталонное значение"
   ]
  },
  {
   "cell_type": "code",
   "execution_count": 15,
   "metadata": {},
   "outputs": [
    {
     "name": "stderr",
     "output_type": "stream",
     "text": [
      "/Users/a18648975/.local/lib/python3.7/site-packages/IPython/core/interactiveshell.py:3170: DtypeWarning: Columns (2,4,6) have mixed types.Specify dtype option on import or set low_memory=False.\n",
      "  interactivity=interactivity, compiler=compiler, result=result)\n"
     ]
    }
   ],
   "source": [
    "reference_df = pd.read_csv('artists.csv')"
   ]
  },
  {
   "cell_type": "code",
   "execution_count": 16,
   "metadata": {},
   "outputs": [
    {
     "data": {
      "text/plain": [
       "(1466083, 10)"
      ]
     },
     "execution_count": 16,
     "metadata": {},
     "output_type": "execute_result"
    }
   ],
   "source": [
    "reference_df.shape"
   ]
  },
  {
   "cell_type": "code",
   "execution_count": 17,
   "metadata": {},
   "outputs": [
    {
     "name": "stdout",
     "output_type": "stream",
     "text": [
      "<class 'pandas.core.frame.DataFrame'>\n",
      "RangeIndex: 1466083 entries, 0 to 1466082\n",
      "Data columns (total 10 columns):\n",
      " #   Column            Non-Null Count    Dtype  \n",
      "---  ------            --------------    -----  \n",
      " 0   mbid              1466083 non-null  object \n",
      " 1   artist_mb         1466075 non-null  object \n",
      " 2   artist_lastfm     986756 non-null   object \n",
      " 3   country_mb        662368 non-null   object \n",
      " 4   country_lastfm    211498 non-null   object \n",
      " 5   tags_mb           119946 non-null   object \n",
      " 6   tags_lastfm       381075 non-null   object \n",
      " 7   listeners_lastfm  986760 non-null   float64\n",
      " 8   scrobbles_lastfm  986760 non-null   float64\n",
      " 9   ambiguous_artist  1466083 non-null  bool   \n",
      "dtypes: bool(1), float64(2), object(7)\n",
      "memory usage: 102.1+ MB\n"
     ]
    }
   ],
   "source": [
    "reference_df.info()"
   ]
  },
  {
   "cell_type": "code",
   "execution_count": 18,
   "metadata": {},
   "outputs": [
    {
     "data": {
      "text/html": [
       "<div>\n",
       "<style scoped>\n",
       "    .dataframe tbody tr th:only-of-type {\n",
       "        vertical-align: middle;\n",
       "    }\n",
       "\n",
       "    .dataframe tbody tr th {\n",
       "        vertical-align: top;\n",
       "    }\n",
       "\n",
       "    .dataframe thead th {\n",
       "        text-align: right;\n",
       "    }\n",
       "</style>\n",
       "<table border=\"1\" class=\"dataframe\">\n",
       "  <thead>\n",
       "    <tr style=\"text-align: right;\">\n",
       "      <th></th>\n",
       "      <th>mbid</th>\n",
       "      <th>artist_mb</th>\n",
       "      <th>artist_lastfm</th>\n",
       "      <th>country_mb</th>\n",
       "      <th>country_lastfm</th>\n",
       "      <th>tags_mb</th>\n",
       "      <th>tags_lastfm</th>\n",
       "      <th>listeners_lastfm</th>\n",
       "      <th>scrobbles_lastfm</th>\n",
       "      <th>ambiguous_artist</th>\n",
       "    </tr>\n",
       "  </thead>\n",
       "  <tbody>\n",
       "    <tr>\n",
       "      <th>0</th>\n",
       "      <td>cc197bad-dc9c-440d-a5b5-d52ba2e14234</td>\n",
       "      <td>Coldplay</td>\n",
       "      <td>Coldplay</td>\n",
       "      <td>United Kingdom</td>\n",
       "      <td>United Kingdom</td>\n",
       "      <td>rock; pop; alternative rock; british; uk; brit...</td>\n",
       "      <td>rock; alternative; britpop; alternative rock; ...</td>\n",
       "      <td>5381567.0</td>\n",
       "      <td>360111850.0</td>\n",
       "      <td>False</td>\n",
       "    </tr>\n",
       "    <tr>\n",
       "      <th>1</th>\n",
       "      <td>a74b1b7f-71a5-4011-9441-d0b5e4122711</td>\n",
       "      <td>Radiohead</td>\n",
       "      <td>Radiohead</td>\n",
       "      <td>United Kingdom</td>\n",
       "      <td>United Kingdom</td>\n",
       "      <td>rock; electronic; alternative rock; british; g...</td>\n",
       "      <td>alternative; alternative rock; rock; indie; el...</td>\n",
       "      <td>4732528.0</td>\n",
       "      <td>499548797.0</td>\n",
       "      <td>False</td>\n",
       "    </tr>\n",
       "  </tbody>\n",
       "</table>\n",
       "</div>"
      ],
      "text/plain": [
       "                                   mbid  artist_mb artist_lastfm  \\\n",
       "0  cc197bad-dc9c-440d-a5b5-d52ba2e14234   Coldplay      Coldplay   \n",
       "1  a74b1b7f-71a5-4011-9441-d0b5e4122711  Radiohead     Radiohead   \n",
       "\n",
       "       country_mb  country_lastfm  \\\n",
       "0  United Kingdom  United Kingdom   \n",
       "1  United Kingdom  United Kingdom   \n",
       "\n",
       "                                             tags_mb  \\\n",
       "0  rock; pop; alternative rock; british; uk; brit...   \n",
       "1  rock; electronic; alternative rock; british; g...   \n",
       "\n",
       "                                         tags_lastfm  listeners_lastfm  \\\n",
       "0  rock; alternative; britpop; alternative rock; ...         5381567.0   \n",
       "1  alternative; alternative rock; rock; indie; el...         4732528.0   \n",
       "\n",
       "   scrobbles_lastfm  ambiguous_artist  \n",
       "0       360111850.0             False  \n",
       "1       499548797.0             False  "
      ]
     },
     "execution_count": 18,
     "metadata": {},
     "output_type": "execute_result"
    }
   ],
   "source": [
    "reference_df.head(2)"
   ]
  },
  {
   "cell_type": "code",
   "execution_count": null,
   "metadata": {},
   "outputs": [],
   "source": []
  },
  {
   "cell_type": "code",
   "execution_count": null,
   "metadata": {},
   "outputs": [],
   "source": []
  },
  {
   "cell_type": "markdown",
   "metadata": {},
   "source": [
    "### Задание 2a"
   ]
  },
  {
   "cell_type": "code",
   "execution_count": 21,
   "metadata": {},
   "outputs": [],
   "source": [
    "# open connection\n",
    "conn = hive.Connection(host='localhost', port=10000)"
   ]
  },
  {
   "cell_type": "code",
   "execution_count": 22,
   "metadata": {},
   "outputs": [],
   "source": [
    "df = pd.read_sql(\n",
    "    \"\"\"\n",
    "    SELECT artist_lastfm\n",
    "    FROM artists\n",
    "    WHERE scrobbles_lastfm IN (SELECT max(scrobbles_lastfm) FROM artists)\n",
    "    \"\"\"\n",
    "    ,\n",
    "    conn\n",
    ")"
   ]
  },
  {
   "cell_type": "code",
   "execution_count": 23,
   "metadata": {},
   "outputs": [
    {
     "data": {
      "text/html": [
       "<div>\n",
       "<style scoped>\n",
       "    .dataframe tbody tr th:only-of-type {\n",
       "        vertical-align: middle;\n",
       "    }\n",
       "\n",
       "    .dataframe tbody tr th {\n",
       "        vertical-align: top;\n",
       "    }\n",
       "\n",
       "    .dataframe thead th {\n",
       "        text-align: right;\n",
       "    }\n",
       "</style>\n",
       "<table border=\"1\" class=\"dataframe\">\n",
       "  <thead>\n",
       "    <tr style=\"text-align: right;\">\n",
       "      <th></th>\n",
       "      <th>artist_lastfm</th>\n",
       "    </tr>\n",
       "  </thead>\n",
       "  <tbody>\n",
       "    <tr>\n",
       "      <th>0</th>\n",
       "      <td>The Beatles</td>\n",
       "    </tr>\n",
       "  </tbody>\n",
       "</table>\n",
       "</div>"
      ],
      "text/plain": [
       "  artist_lastfm\n",
       "0   The Beatles"
      ]
     },
     "execution_count": 23,
     "metadata": {},
     "output_type": "execute_result"
    }
   ],
   "source": [
    "df"
   ]
  },
  {
   "cell_type": "markdown",
   "metadata": {},
   "source": [
    "### Задание 2b"
   ]
  },
  {
   "cell_type": "code",
   "execution_count": 24,
   "metadata": {},
   "outputs": [],
   "source": [
    "df_tags = pd.read_sql(\n",
    "    \"\"\"\n",
    "    SELECT tag, COUNT(tag) as tag_count\n",
    "    FROM artists LATERAL VIEW explode(split(tags_lastfm,';')) tagTable AS tag\n",
    "    WHERE tag != ''\n",
    "    GROUP BY tag\n",
    "    ORDER BY tag_count DESC\n",
    "    LIMIT 1\n",
    "    \"\"\"\n",
    "    ,\n",
    "    conn\n",
    ")"
   ]
  },
  {
   "cell_type": "code",
   "execution_count": 25,
   "metadata": {},
   "outputs": [
    {
     "data": {
      "text/html": [
       "<div>\n",
       "<style scoped>\n",
       "    .dataframe tbody tr th:only-of-type {\n",
       "        vertical-align: middle;\n",
       "    }\n",
       "\n",
       "    .dataframe tbody tr th {\n",
       "        vertical-align: top;\n",
       "    }\n",
       "\n",
       "    .dataframe thead th {\n",
       "        text-align: right;\n",
       "    }\n",
       "</style>\n",
       "<table border=\"1\" class=\"dataframe\">\n",
       "  <thead>\n",
       "    <tr style=\"text-align: right;\">\n",
       "      <th></th>\n",
       "      <th>tag</th>\n",
       "      <th>tag_count</th>\n",
       "    </tr>\n",
       "  </thead>\n",
       "  <tbody>\n",
       "    <tr>\n",
       "      <th>0</th>\n",
       "      <td>seen live</td>\n",
       "      <td>81278</td>\n",
       "    </tr>\n",
       "  </tbody>\n",
       "</table>\n",
       "</div>"
      ],
      "text/plain": [
       "          tag  tag_count\n",
       "0   seen live      81278"
      ]
     },
     "execution_count": 25,
     "metadata": {},
     "output_type": "execute_result"
    }
   ],
   "source": [
    "df_tags"
   ]
  },
  {
   "cell_type": "markdown",
   "metadata": {},
   "source": [
    "### Задание 2c"
   ]
  },
  {
   "cell_type": "code",
   "execution_count": 26,
   "metadata": {},
   "outputs": [],
   "source": [
    "df_tags = pd.read_sql(\n",
    "    \"\"\"\n",
    "    SELECT tag, COUNT(tag) as tag_count\n",
    "    FROM artists LATERAL VIEW explode(split(tags_lastfm,';')) tagTable AS tag\n",
    "    WHERE tag != ''\n",
    "    GROUP BY tag\n",
    "    ORDER BY tag_count DESC\n",
    "    LIMIT 10\n",
    "    \"\"\"\n",
    "    ,\n",
    "    conn\n",
    ")"
   ]
  },
  {
   "cell_type": "code",
   "execution_count": 27,
   "metadata": {},
   "outputs": [
    {
     "data": {
      "text/html": [
       "<div>\n",
       "<style scoped>\n",
       "    .dataframe tbody tr th:only-of-type {\n",
       "        vertical-align: middle;\n",
       "    }\n",
       "\n",
       "    .dataframe tbody tr th {\n",
       "        vertical-align: top;\n",
       "    }\n",
       "\n",
       "    .dataframe thead th {\n",
       "        text-align: right;\n",
       "    }\n",
       "</style>\n",
       "<table border=\"1\" class=\"dataframe\">\n",
       "  <thead>\n",
       "    <tr style=\"text-align: right;\">\n",
       "      <th></th>\n",
       "      <th>tag</th>\n",
       "      <th>tag_count</th>\n",
       "    </tr>\n",
       "  </thead>\n",
       "  <tbody>\n",
       "    <tr>\n",
       "      <th>0</th>\n",
       "      <td>seen live</td>\n",
       "      <td>81278</td>\n",
       "    </tr>\n",
       "    <tr>\n",
       "      <th>1</th>\n",
       "      <td>rock</td>\n",
       "      <td>64902</td>\n",
       "    </tr>\n",
       "    <tr>\n",
       "      <th>2</th>\n",
       "      <td>electronic</td>\n",
       "      <td>58163</td>\n",
       "    </tr>\n",
       "    <tr>\n",
       "      <th>3</th>\n",
       "      <td>All</td>\n",
       "      <td>48631</td>\n",
       "    </tr>\n",
       "    <tr>\n",
       "      <th>4</th>\n",
       "      <td>under 2000 listeners</td>\n",
       "      <td>48301</td>\n",
       "    </tr>\n",
       "    <tr>\n",
       "      <th>5</th>\n",
       "      <td>alternative</td>\n",
       "      <td>42067</td>\n",
       "    </tr>\n",
       "    <tr>\n",
       "      <th>6</th>\n",
       "      <td>pop</td>\n",
       "      <td>41557</td>\n",
       "    </tr>\n",
       "    <tr>\n",
       "      <th>7</th>\n",
       "      <td>indie</td>\n",
       "      <td>39333</td>\n",
       "    </tr>\n",
       "    <tr>\n",
       "      <th>8</th>\n",
       "      <td>experimental</td>\n",
       "      <td>37665</td>\n",
       "    </tr>\n",
       "    <tr>\n",
       "      <th>9</th>\n",
       "      <td>female vocalists</td>\n",
       "      <td>33097</td>\n",
       "    </tr>\n",
       "  </tbody>\n",
       "</table>\n",
       "</div>"
      ],
      "text/plain": [
       "                     tag  tag_count\n",
       "0              seen live      81278\n",
       "1                   rock      64902\n",
       "2             electronic      58163\n",
       "3                    All      48631\n",
       "4   under 2000 listeners      48301\n",
       "5            alternative      42067\n",
       "6                    pop      41557\n",
       "7                  indie      39333\n",
       "8           experimental      37665\n",
       "9       female vocalists      33097"
      ]
     },
     "execution_count": 27,
     "metadata": {},
     "output_type": "execute_result"
    }
   ],
   "source": [
    "df_tags"
   ]
  },
  {
   "cell_type": "code",
   "execution_count": 28,
   "metadata": {},
   "outputs": [],
   "source": [
    "df_artists = pd.read_sql(\n",
    "    \"\"\"\n",
    "    SELECT t.tag as tag,  t.artist_lastfm as artist_lastfm, t.scrobbles_lastfm as scrobbles_lastfm\n",
    "        FROM(\n",
    "            SELECT tag, artist_lastfm, scrobbles_lastfm, row_number() over ( partition by tag order by scrobbles_lastfm DESC ) as row_num \n",
    "            FROM artists LATERAL VIEW explode(split(tags_lastfm,';')) tagTable AS tag ) t \n",
    "        WHERE row_num = 1\n",
    "    \"\"\"\n",
    "    ,\n",
    "    conn\n",
    ")"
   ]
  },
  {
   "cell_type": "code",
   "execution_count": 33,
   "metadata": {},
   "outputs": [
    {
     "data": {
      "text/html": [
       "<div>\n",
       "<style scoped>\n",
       "    .dataframe tbody tr th:only-of-type {\n",
       "        vertical-align: middle;\n",
       "    }\n",
       "\n",
       "    .dataframe tbody tr th {\n",
       "        vertical-align: top;\n",
       "    }\n",
       "\n",
       "    .dataframe thead th {\n",
       "        text-align: right;\n",
       "    }\n",
       "</style>\n",
       "<table border=\"1\" class=\"dataframe\">\n",
       "  <thead>\n",
       "    <tr style=\"text-align: right;\">\n",
       "      <th></th>\n",
       "      <th>tag</th>\n",
       "      <th>artist_lastfm</th>\n",
       "      <th>scrobbles_lastfm</th>\n",
       "    </tr>\n",
       "  </thead>\n",
       "  <tbody>\n",
       "    <tr>\n",
       "      <th>403923</th>\n",
       "      <td>zxzw</td>\n",
       "      <td>The Yearlings</td>\n",
       "      <td>10511.0</td>\n",
       "    </tr>\n",
       "    <tr>\n",
       "      <th>403924</th>\n",
       "      <td>zxzw 2007</td>\n",
       "      <td>Minitel</td>\n",
       "      <td>1437.0</td>\n",
       "    </tr>\n",
       "    <tr>\n",
       "      <th>403925</th>\n",
       "      <td>zydeco</td>\n",
       "      <td>Clifton Chenier</td>\n",
       "      <td>250075.0</td>\n",
       "    </tr>\n",
       "    <tr>\n",
       "      <th>403926</th>\n",
       "      <td>électro</td>\n",
       "      <td>Omega Male</td>\n",
       "      <td>5679.0</td>\n",
       "    </tr>\n",
       "    <tr>\n",
       "      <th>403927</th>\n",
       "      <td>österreich</td>\n",
       "      <td>King Of Japan</td>\n",
       "      <td>3726.0</td>\n",
       "    </tr>\n",
       "  </tbody>\n",
       "</table>\n",
       "</div>"
      ],
      "text/plain": [
       "               tag    artist_lastfm  scrobbles_lastfm\n",
       "403923        zxzw    The Yearlings           10511.0\n",
       "403924   zxzw 2007          Minitel            1437.0\n",
       "403925      zydeco  Clifton Chenier          250075.0\n",
       "403926     électro       Omega Male            5679.0\n",
       "403927  österreich    King Of Japan            3726.0"
      ]
     },
     "execution_count": 33,
     "metadata": {},
     "output_type": "execute_result"
    }
   ],
   "source": [
    "df_artists.tail(5)"
   ]
  },
  {
   "cell_type": "code",
   "execution_count": 30,
   "metadata": {},
   "outputs": [],
   "source": [
    "df_join = pd.read_sql(\n",
    "    \"\"\"\n",
    "    SELECT *\n",
    "    FROM (\n",
    "        SELECT tag, COUNT(tag) as tag_count\n",
    "        FROM artists LATERAL VIEW explode(split(tags_lastfm,';')) tagTable AS tag\n",
    "        WHERE tag != ''\n",
    "        GROUP BY tag\n",
    "        ORDER BY tag_count DESC\n",
    "        LIMIT 10) tag10\n",
    "    JOIN (\n",
    "        SELECT t.tag as tag,  t.artist_lastfm as artist_lastfm, t.scrobbles_lastfm as scrobbles_lastfm\n",
    "            FROM(\n",
    "                SELECT tag, artist_lastfm, scrobbles_lastfm, row_number() over ( partition by tag order by scrobbles_lastfm DESC ) as row_num \n",
    "                FROM artists LATERAL VIEW explode(split(tags_lastfm,';')) tagTable AS tag ) t \n",
    "            WHERE row_num = 1) tag_artists\n",
    "    ON (tag10.tag = tag_artists.tag)    \n",
    "    \"\"\"\n",
    "    ,\n",
    "    conn\n",
    ")"
   ]
  },
  {
   "cell_type": "code",
   "execution_count": 31,
   "metadata": {},
   "outputs": [
    {
     "data": {
      "text/html": [
       "<div>\n",
       "<style scoped>\n",
       "    .dataframe tbody tr th:only-of-type {\n",
       "        vertical-align: middle;\n",
       "    }\n",
       "\n",
       "    .dataframe tbody tr th {\n",
       "        vertical-align: top;\n",
       "    }\n",
       "\n",
       "    .dataframe thead th {\n",
       "        text-align: right;\n",
       "    }\n",
       "</style>\n",
       "<table border=\"1\" class=\"dataframe\">\n",
       "  <thead>\n",
       "    <tr style=\"text-align: right;\">\n",
       "      <th></th>\n",
       "      <th>tag10.tag</th>\n",
       "      <th>tag10.tag_count</th>\n",
       "      <th>tag_artists.tag</th>\n",
       "      <th>tag_artists.artist_lastfm</th>\n",
       "      <th>tag_artists.scrobbles_lastfm</th>\n",
       "    </tr>\n",
       "  </thead>\n",
       "  <tbody>\n",
       "    <tr>\n",
       "      <th>0</th>\n",
       "      <td>All</td>\n",
       "      <td>48631</td>\n",
       "      <td>All</td>\n",
       "      <td>Ariana Grande</td>\n",
       "      <td>106673208.0</td>\n",
       "    </tr>\n",
       "    <tr>\n",
       "      <th>1</th>\n",
       "      <td>alternative</td>\n",
       "      <td>42067</td>\n",
       "      <td>alternative</td>\n",
       "      <td>Coldplay</td>\n",
       "      <td>360111840.0</td>\n",
       "    </tr>\n",
       "    <tr>\n",
       "      <th>2</th>\n",
       "      <td>electronic</td>\n",
       "      <td>58163</td>\n",
       "      <td>electronic</td>\n",
       "      <td>Radiohead</td>\n",
       "      <td>499548800.0</td>\n",
       "    </tr>\n",
       "    <tr>\n",
       "      <th>3</th>\n",
       "      <td>experimental</td>\n",
       "      <td>37665</td>\n",
       "      <td>experimental</td>\n",
       "      <td>Radiohead</td>\n",
       "      <td>499548800.0</td>\n",
       "    </tr>\n",
       "    <tr>\n",
       "      <th>4</th>\n",
       "      <td>female vocalists</td>\n",
       "      <td>33097</td>\n",
       "      <td>female vocalists</td>\n",
       "      <td>Lady Gaga</td>\n",
       "      <td>285469632.0</td>\n",
       "    </tr>\n",
       "    <tr>\n",
       "      <th>5</th>\n",
       "      <td>indie</td>\n",
       "      <td>39333</td>\n",
       "      <td>indie</td>\n",
       "      <td>Radiohead</td>\n",
       "      <td>499548800.0</td>\n",
       "    </tr>\n",
       "    <tr>\n",
       "      <th>6</th>\n",
       "      <td>pop</td>\n",
       "      <td>41557</td>\n",
       "      <td>pop</td>\n",
       "      <td>The Beatles</td>\n",
       "      <td>517126240.0</td>\n",
       "    </tr>\n",
       "    <tr>\n",
       "      <th>7</th>\n",
       "      <td>rock</td>\n",
       "      <td>64902</td>\n",
       "      <td>rock</td>\n",
       "      <td>The Beatles</td>\n",
       "      <td>517126240.0</td>\n",
       "    </tr>\n",
       "    <tr>\n",
       "      <th>8</th>\n",
       "      <td>seen live</td>\n",
       "      <td>81278</td>\n",
       "      <td>seen live</td>\n",
       "      <td>Radiohead</td>\n",
       "      <td>499548800.0</td>\n",
       "    </tr>\n",
       "    <tr>\n",
       "      <th>9</th>\n",
       "      <td>under 2000 listeners</td>\n",
       "      <td>48301</td>\n",
       "      <td>under 2000 listeners</td>\n",
       "      <td>Joyce Manor</td>\n",
       "      <td>10993278.0</td>\n",
       "    </tr>\n",
       "  </tbody>\n",
       "</table>\n",
       "</div>"
      ],
      "text/plain": [
       "               tag10.tag  tag10.tag_count        tag_artists.tag  \\\n",
       "0                    All            48631                    All   \n",
       "1            alternative            42067            alternative   \n",
       "2             electronic            58163             electronic   \n",
       "3           experimental            37665           experimental   \n",
       "4       female vocalists            33097       female vocalists   \n",
       "5                  indie            39333                  indie   \n",
       "6                    pop            41557                    pop   \n",
       "7                   rock            64902                   rock   \n",
       "8              seen live            81278              seen live   \n",
       "9   under 2000 listeners            48301   under 2000 listeners   \n",
       "\n",
       "  tag_artists.artist_lastfm  tag_artists.scrobbles_lastfm  \n",
       "0             Ariana Grande                   106673208.0  \n",
       "1                  Coldplay                   360111840.0  \n",
       "2                 Radiohead                   499548800.0  \n",
       "3                 Radiohead                   499548800.0  \n",
       "4                 Lady Gaga                   285469632.0  \n",
       "5                 Radiohead                   499548800.0  \n",
       "6               The Beatles                   517126240.0  \n",
       "7               The Beatles                   517126240.0  \n",
       "8                 Radiohead                   499548800.0  \n",
       "9               Joyce Manor                    10993278.0  "
      ]
     },
     "execution_count": 31,
     "metadata": {},
     "output_type": "execute_result"
    }
   ],
   "source": [
    "df_join"
   ]
  },
  {
   "cell_type": "markdown",
   "metadata": {},
   "source": [
    "### Задание 2d"
   ]
  },
  {
   "cell_type": "code",
   "execution_count": 34,
   "metadata": {},
   "outputs": [],
   "source": [
    "# Cамые непопулярные артисты в 10 самых популярных тэгах.\n",
    "# Выводим по рангу=1, a не row_num=1 \n",
    "# (поскольку scrobbles_lastfm = 0 (не популярный певец) присутствует у многих исполнителей)"
   ]
  },
  {
   "cell_type": "code",
   "execution_count": 35,
   "metadata": {},
   "outputs": [],
   "source": [
    "df_join = pd.read_sql(\n",
    "    \"\"\"\n",
    "    SELECT *\n",
    "    FROM (\n",
    "        SELECT tag, COUNT(tag) as tag_count\n",
    "        FROM artists LATERAL VIEW explode(split(tags_lastfm,';')) tagTable AS tag\n",
    "        WHERE tag != ''\n",
    "        GROUP BY tag\n",
    "        ORDER BY tag_count DESC\n",
    "        LIMIT 10) tag10\n",
    "    JOIN (\n",
    "        SELECT t.tag as tag,  t.artist_lastfm as artist_lastfm, t.scrobbles_lastfm as scrobbles_lastfm\n",
    "            FROM(\n",
    "                SELECT tag, artist_lastfm, scrobbles_lastfm, rank() over ( partition by tag order by scrobbles_lastfm ASC ) as row_num \n",
    "                FROM artists LATERAL VIEW explode(split(tags_lastfm,';')) tagTable AS tag ) t \n",
    "            WHERE row_num = 1) tag_artists\n",
    "    ON (tag10.tag = tag_artists.tag)    \n",
    "    \"\"\"\n",
    "    ,\n",
    "    conn\n",
    ")"
   ]
  },
  {
   "cell_type": "code",
   "execution_count": 36,
   "metadata": {},
   "outputs": [
    {
     "data": {
      "text/html": [
       "<div>\n",
       "<style scoped>\n",
       "    .dataframe tbody tr th:only-of-type {\n",
       "        vertical-align: middle;\n",
       "    }\n",
       "\n",
       "    .dataframe tbody tr th {\n",
       "        vertical-align: top;\n",
       "    }\n",
       "\n",
       "    .dataframe thead th {\n",
       "        text-align: right;\n",
       "    }\n",
       "</style>\n",
       "<table border=\"1\" class=\"dataframe\">\n",
       "  <thead>\n",
       "    <tr style=\"text-align: right;\">\n",
       "      <th></th>\n",
       "      <th>tag10.tag</th>\n",
       "      <th>tag10.tag_count</th>\n",
       "      <th>tag_artists.tag</th>\n",
       "      <th>tag_artists.artist_lastfm</th>\n",
       "      <th>tag_artists.scrobbles_lastfm</th>\n",
       "    </tr>\n",
       "  </thead>\n",
       "  <tbody>\n",
       "    <tr>\n",
       "      <th>0</th>\n",
       "      <td>All</td>\n",
       "      <td>48631</td>\n",
       "      <td>All</td>\n",
       "      <td>Scorpion</td>\n",
       "      <td>0.0</td>\n",
       "    </tr>\n",
       "    <tr>\n",
       "      <th>1</th>\n",
       "      <td>All</td>\n",
       "      <td>48631</td>\n",
       "      <td>All</td>\n",
       "      <td>Haifa</td>\n",
       "      <td>0.0</td>\n",
       "    </tr>\n",
       "    <tr>\n",
       "      <th>2</th>\n",
       "      <td>All</td>\n",
       "      <td>48631</td>\n",
       "      <td>All</td>\n",
       "      <td>Bud Powell Trio</td>\n",
       "      <td>0.0</td>\n",
       "    </tr>\n",
       "    <tr>\n",
       "      <th>3</th>\n",
       "      <td>All</td>\n",
       "      <td>48631</td>\n",
       "      <td>All</td>\n",
       "      <td>Dave Mellilo</td>\n",
       "      <td>0.0</td>\n",
       "    </tr>\n",
       "    <tr>\n",
       "      <th>4</th>\n",
       "      <td>All</td>\n",
       "      <td>48631</td>\n",
       "      <td>All</td>\n",
       "      <td>Hoffmaestro</td>\n",
       "      <td>0.0</td>\n",
       "    </tr>\n",
       "    <tr>\n",
       "      <th>...</th>\n",
       "      <td>...</td>\n",
       "      <td>...</td>\n",
       "      <td>...</td>\n",
       "      <td>...</td>\n",
       "      <td>...</td>\n",
       "    </tr>\n",
       "    <tr>\n",
       "      <th>1059</th>\n",
       "      <td>under 2000 listeners</td>\n",
       "      <td>48301</td>\n",
       "      <td>under 2000 listeners</td>\n",
       "      <td>Judy Buendia</td>\n",
       "      <td>0.0</td>\n",
       "    </tr>\n",
       "    <tr>\n",
       "      <th>1060</th>\n",
       "      <td>under 2000 listeners</td>\n",
       "      <td>48301</td>\n",
       "      <td>under 2000 listeners</td>\n",
       "      <td>Avery Sunshine</td>\n",
       "      <td>0.0</td>\n",
       "    </tr>\n",
       "    <tr>\n",
       "      <th>1061</th>\n",
       "      <td>under 2000 listeners</td>\n",
       "      <td>48301</td>\n",
       "      <td>under 2000 listeners</td>\n",
       "      <td>Jen Trynin</td>\n",
       "      <td>0.0</td>\n",
       "    </tr>\n",
       "    <tr>\n",
       "      <th>1062</th>\n",
       "      <td>under 2000 listeners</td>\n",
       "      <td>48301</td>\n",
       "      <td>under 2000 listeners</td>\n",
       "      <td>Crash Car Burn</td>\n",
       "      <td>0.0</td>\n",
       "    </tr>\n",
       "    <tr>\n",
       "      <th>1063</th>\n",
       "      <td>under 2000 listeners</td>\n",
       "      <td>48301</td>\n",
       "      <td>under 2000 listeners</td>\n",
       "      <td>Mark's Little Box</td>\n",
       "      <td>0.0</td>\n",
       "    </tr>\n",
       "  </tbody>\n",
       "</table>\n",
       "<p>1064 rows × 5 columns</p>\n",
       "</div>"
      ],
      "text/plain": [
       "                  tag10.tag  tag10.tag_count        tag_artists.tag  \\\n",
       "0                       All            48631                    All   \n",
       "1                       All            48631                    All   \n",
       "2                       All            48631                    All   \n",
       "3                       All            48631                    All   \n",
       "4                       All            48631                    All   \n",
       "...                     ...              ...                    ...   \n",
       "1059   under 2000 listeners            48301   under 2000 listeners   \n",
       "1060   under 2000 listeners            48301   under 2000 listeners   \n",
       "1061   under 2000 listeners            48301   under 2000 listeners   \n",
       "1062   under 2000 listeners            48301   under 2000 listeners   \n",
       "1063   under 2000 listeners            48301   under 2000 listeners   \n",
       "\n",
       "     tag_artists.artist_lastfm  tag_artists.scrobbles_lastfm  \n",
       "0                     Scorpion                           0.0  \n",
       "1                        Haifa                           0.0  \n",
       "2              Bud Powell Trio                           0.0  \n",
       "3                 Dave Mellilo                           0.0  \n",
       "4                  Hoffmaestro                           0.0  \n",
       "...                        ...                           ...  \n",
       "1059              Judy Buendia                           0.0  \n",
       "1060            Avery Sunshine                           0.0  \n",
       "1061                Jen Trynin                           0.0  \n",
       "1062            Crash Car Burn                           0.0  \n",
       "1063         Mark's Little Box                           0.0  \n",
       "\n",
       "[1064 rows x 5 columns]"
      ]
     },
     "execution_count": 36,
     "metadata": {},
     "output_type": "execute_result"
    }
   ],
   "source": [
    "df_join"
   ]
  },
  {
   "cell_type": "code",
   "execution_count": null,
   "metadata": {},
   "outputs": [],
   "source": []
  },
  {
   "cell_type": "code",
   "execution_count": null,
   "metadata": {},
   "outputs": [],
   "source": []
  },
  {
   "cell_type": "code",
   "execution_count": null,
   "metadata": {},
   "outputs": [],
   "source": []
  }
 ],
 "metadata": {
  "kernelspec": {
   "display_name": "Python 3",
   "language": "python",
   "name": "python3"
  },
  "language_info": {
   "codemirror_mode": {
    "name": "ipython",
    "version": 3
   },
   "file_extension": ".py",
   "mimetype": "text/x-python",
   "name": "python",
   "nbconvert_exporter": "python",
   "pygments_lexer": "ipython3",
   "version": "3.7.6"
  }
 },
 "nbformat": 4,
 "nbformat_minor": 4
}
